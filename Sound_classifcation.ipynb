{
 "cells": [
  {
   "cell_type": "markdown",
   "metadata": {},
   "source": [
    "# Urban Sound Classificaiton\n",
    "****"
   ]
  },
  {
   "cell_type": "code",
   "execution_count": null,
   "metadata": {},
   "outputs": [],
   "source": []
  },
  {
   "cell_type": "code",
   "execution_count": null,
   "metadata": {},
   "outputs": [],
   "source": []
  },
  {
   "cell_type": "markdown",
   "metadata": {},
   "source": [
    "## 1.1 Importing Libraries"
   ]
  },
  {
   "cell_type": "code",
   "execution_count": 1,
   "metadata": {},
   "outputs": [],
   "source": [
    "import os\n",
    "import numpy as np\n",
    "import pandas as pd\n",
    "import librosa\n",
    "import librosa.display\n",
    "import IPython.display as ipd\n",
    "import matplotlib.pyplot as plt\n",
    "import seaborn as sns\n",
    "import soundfile as sf\n",
    "from scipy.io import wavfile as wav\n",
    "from tqdm import tqdm\n",
    "from sklearn.model_selection import train_test_split\n",
    "%matplotlib inline"
   ]
  },
  {
   "cell_type": "code",
   "execution_count": 2,
   "metadata": {},
   "outputs": [
    {
     "data": {
      "text/html": [
       "<div>\n",
       "<style scoped>\n",
       "    .dataframe tbody tr th:only-of-type {\n",
       "        vertical-align: middle;\n",
       "    }\n",
       "\n",
       "    .dataframe tbody tr th {\n",
       "        vertical-align: top;\n",
       "    }\n",
       "\n",
       "    .dataframe thead th {\n",
       "        text-align: right;\n",
       "    }\n",
       "</style>\n",
       "<table border=\"1\" class=\"dataframe\">\n",
       "  <thead>\n",
       "    <tr style=\"text-align: right;\">\n",
       "      <th></th>\n",
       "      <th>slice_file_name</th>\n",
       "      <th>fsID</th>\n",
       "      <th>start</th>\n",
       "      <th>end</th>\n",
       "      <th>salience</th>\n",
       "      <th>fold</th>\n",
       "      <th>classID</th>\n",
       "      <th>class</th>\n",
       "    </tr>\n",
       "  </thead>\n",
       "  <tbody>\n",
       "    <tr>\n",
       "      <th>0</th>\n",
       "      <td>100032-3-0-0.wav</td>\n",
       "      <td>100032</td>\n",
       "      <td>0.0</td>\n",
       "      <td>0.317551</td>\n",
       "      <td>1</td>\n",
       "      <td>5</td>\n",
       "      <td>3</td>\n",
       "      <td>dog_bark</td>\n",
       "    </tr>\n",
       "    <tr>\n",
       "      <th>1</th>\n",
       "      <td>100263-2-0-117.wav</td>\n",
       "      <td>100263</td>\n",
       "      <td>58.5</td>\n",
       "      <td>62.500000</td>\n",
       "      <td>1</td>\n",
       "      <td>5</td>\n",
       "      <td>2</td>\n",
       "      <td>children_playing</td>\n",
       "    </tr>\n",
       "    <tr>\n",
       "      <th>2</th>\n",
       "      <td>100263-2-0-121.wav</td>\n",
       "      <td>100263</td>\n",
       "      <td>60.5</td>\n",
       "      <td>64.500000</td>\n",
       "      <td>1</td>\n",
       "      <td>5</td>\n",
       "      <td>2</td>\n",
       "      <td>children_playing</td>\n",
       "    </tr>\n",
       "    <tr>\n",
       "      <th>3</th>\n",
       "      <td>100263-2-0-126.wav</td>\n",
       "      <td>100263</td>\n",
       "      <td>63.0</td>\n",
       "      <td>67.000000</td>\n",
       "      <td>1</td>\n",
       "      <td>5</td>\n",
       "      <td>2</td>\n",
       "      <td>children_playing</td>\n",
       "    </tr>\n",
       "    <tr>\n",
       "      <th>4</th>\n",
       "      <td>100263-2-0-137.wav</td>\n",
       "      <td>100263</td>\n",
       "      <td>68.5</td>\n",
       "      <td>72.500000</td>\n",
       "      <td>1</td>\n",
       "      <td>5</td>\n",
       "      <td>2</td>\n",
       "      <td>children_playing</td>\n",
       "    </tr>\n",
       "  </tbody>\n",
       "</table>\n",
       "</div>"
      ],
      "text/plain": [
       "      slice_file_name    fsID  start        end  salience  fold  classID  \\\n",
       "0    100032-3-0-0.wav  100032    0.0   0.317551         1     5        3   \n",
       "1  100263-2-0-117.wav  100263   58.5  62.500000         1     5        2   \n",
       "2  100263-2-0-121.wav  100263   60.5  64.500000         1     5        2   \n",
       "3  100263-2-0-126.wav  100263   63.0  67.000000         1     5        2   \n",
       "4  100263-2-0-137.wav  100263   68.5  72.500000         1     5        2   \n",
       "\n",
       "              class  \n",
       "0          dog_bark  \n",
       "1  children_playing  \n",
       "2  children_playing  \n",
       "3  children_playing  \n",
       "4  children_playing  "
      ]
     },
     "execution_count": 2,
     "metadata": {},
     "output_type": "execute_result"
    }
   ],
   "source": [
    "meta_data = pd.read_csv(\"metadata/UrbanSound8K.csv\")  \n",
    "\n",
    "np.shape(meta_data) # (8732, 8)\n",
    "meta_data.head()"
   ]
  },
  {
   "cell_type": "code",
   "execution_count": 182,
   "metadata": {},
   "outputs": [
    {
     "name": "stdout",
     "output_type": "stream",
     "text": [
      "0    1000\n",
      "1     429\n",
      "2    1000\n",
      "3    1000\n",
      "4    1000\n",
      "5    1000\n",
      "6     374\n",
      "7    1000\n",
      "8     929\n",
      "9    1000\n",
      "Name: classID, dtype: int64\n"
     ]
    }
   ],
   "source": [
    "print((meta_data.classID.value_counts().sort_index()))"
   ]
  },
  {
   "cell_type": "code",
   "execution_count": 183,
   "metadata": {},
   "outputs": [
    {
     "data": {
      "image/png": "[encoded data removed]",
      "text/plain": [
       "<Figure size 432x288 with 1 Axes>"
      ]
     },
     "metadata": {},
     "output_type": "display_data"
    }
   ],
   "source": [
    "sns.set(style=\"darkgrid\")\n",
    "sns.countplot(y= meta_data['class'],orient='v')\n",
    "plt.show()"
   ]
  },
  {
   "cell_type": "code",
   "execution_count": 170,
   "metadata": {},
   "outputs": [
    {
     "data": {
      "text/plain": [
       "4.0"
      ]
     },
     "execution_count": 170,
     "metadata": {},
     "output_type": "execute_result"
    },
    {
     "data": {
      "image/png": "[encoded data removed]",
      "text/plain": [
       "<Figure size 720x216 with 1 Axes>"
      ]
     },
     "metadata": {
      "needs_background": "light"
     },
     "output_type": "display_data"
    }
   ],
   "source": [
    "# Class: Car horn \n",
    "filename = 'audio/fold1/101415-3-0-2.wav'\n",
    "plt.figure(figsize=(10,3))\n",
    "data,sample_rate = librosa.load(filename)\n",
    "_ = librosa.display.waveplot(data,sr=sample_rate)\n",
    "ipd.Audio(filename)\n"
   ]
  },
  {
   "cell_type": "code",
   "execution_count": 3,
   "metadata": {},
   "outputs": [],
   "source": [
    "# Draw the MFCC Spectrogram for each of the class of the sound data\n",
    "# choose a sample of sound from each class\n",
    "sound_sample = []\n",
    "for c in range(10):\n",
    "    for index, row in meta_data.iterrows():\n",
    "        if c == row['classID']:\n",
    "            sound_sample.append(row)\n",
    "            break\n",
    "sound_sample_mfcc = []\n",
    "for i in range(10):            \n",
    "    file_name = 'audio/fold' + str(sound_sample[i]['fold']) + '/'+ sound_sample[i]['slice_file_name']\n",
    "    audio, sample_rate = librosa.load(file_name, res_type='kaiser_fast') \n",
    "    mfccs = librosa.feature.mfcc(y=audio, sr=sample_rate, n_mfcc=40)\n",
    "    sound_sample_mfcc.append(mfccs)"
   ]
  },
  {
   "cell_type": "code",
   "execution_count": 14,
   "metadata": {},
   "outputs": [
    {
     "data": {
      "image/png": "[encoded data removed]",
      "text/plain": [
       "<Figure size 1440x576 with 21 Axes>"
      ]
     },
     "metadata": {
      "needs_background": "light"
     },
     "output_type": "display_data"
    }
   ],
   "source": [
    "# Draw the MFCC Spectrogram for each class\n",
    "sound_class_dic = meta_data.groupby(['class', 'classID']).size()\n",
    "fig = plt.figure(figsize=(20, 8))\n",
    "fig.subplots_adjust(hspace = 0.5, wspace = 0.5)\n",
    "plt.title('MFCC for different class of sounds on log Hz', y = 1.05, fontsize = 18)\n",
    "plt.axis('off')\n",
    "for i in range(10):\n",
    "    fig.add_subplot(2,5,i+1)\n",
    "    plt.title(f'{sound_class_dic.index[i][0]}')\n",
    "    librosa.display.specshow(sound_sample_mfcc[i], x_axis='time', y_axis='log')\n",
    "    plt.colorbar(format='%+2.0f dB')\n",
    "    plt.tight_layout()"
   ]
  },
  {
   "cell_type": "markdown",
   "metadata": {},
   "source": [
    "### 1.2  Extracting the metadata of the audio"
   ]
  },
  {
   "cell_type": "code",
   "execution_count": 184,
   "metadata": {},
   "outputs": [],
   "source": [
    "audio_d_list = []\n",
    "\n",
    "for index, row in meta_data.iterrows():\n",
    "    \n",
    "    file_name = os.path.join(os.path.abspath('audio/'),\n",
    "                             'fold'+ str(row[\"fold\"])+'/',\n",
    "                             str(row[\"slice_file_name\"]))\n",
    "    \n",
    "    # extracting channels, sampling rate, bit rate and duration\n",
    "    data = sf.SoundFile(file_name)\n",
    "    duration = float(meta_data.iloc[index,3])-float(meta_data.iloc[index,2])\n",
    "    audio_d_list.append([data.channels,\n",
    "                         data.samplerate,\n",
    "                         data.subtype[4:],\n",
    "                         duration])\n",
    "\n",
    "audio_data = pd.DataFrame(audio_d_list, \n",
    "                          columns=['num_channels','sample_rate','bit_depth','duration'])"
   ]
  },
  {
   "cell_type": "code",
   "execution_count": 185,
   "metadata": {},
   "outputs": [
    {
     "data": {
      "text/html": [
       "<div>\n",
       "<style scoped>\n",
       "    .dataframe tbody tr th:only-of-type {\n",
       "        vertical-align: middle;\n",
       "    }\n",
       "\n",
       "    .dataframe tbody tr th {\n",
       "        vertical-align: top;\n",
       "    }\n",
       "\n",
       "    .dataframe thead th {\n",
       "        text-align: right;\n",
       "    }\n",
       "</style>\n",
       "<table border=\"1\" class=\"dataframe\">\n",
       "  <thead>\n",
       "    <tr style=\"text-align: right;\">\n",
       "      <th></th>\n",
       "      <th>num_channels</th>\n",
       "      <th>sample_rate</th>\n",
       "      <th>bit_depth</th>\n",
       "      <th>duration</th>\n",
       "    </tr>\n",
       "  </thead>\n",
       "  <tbody>\n",
       "    <tr>\n",
       "      <th>0</th>\n",
       "      <td>2</td>\n",
       "      <td>44100</td>\n",
       "      <td>16</td>\n",
       "      <td>0.317551</td>\n",
       "    </tr>\n",
       "    <tr>\n",
       "      <th>1</th>\n",
       "      <td>2</td>\n",
       "      <td>44100</td>\n",
       "      <td>16</td>\n",
       "      <td>4.000000</td>\n",
       "    </tr>\n",
       "    <tr>\n",
       "      <th>2</th>\n",
       "      <td>2</td>\n",
       "      <td>44100</td>\n",
       "      <td>16</td>\n",
       "      <td>4.000000</td>\n",
       "    </tr>\n",
       "    <tr>\n",
       "      <th>3</th>\n",
       "      <td>2</td>\n",
       "      <td>44100</td>\n",
       "      <td>16</td>\n",
       "      <td>4.000000</td>\n",
       "    </tr>\n",
       "    <tr>\n",
       "      <th>4</th>\n",
       "      <td>2</td>\n",
       "      <td>44100</td>\n",
       "      <td>16</td>\n",
       "      <td>4.000000</td>\n",
       "    </tr>\n",
       "  </tbody>\n",
       "</table>\n",
       "</div>"
      ],
      "text/plain": [
       "   num_channels  sample_rate bit_depth  duration\n",
       "0             2        44100        16  0.317551\n",
       "1             2        44100        16  4.000000\n",
       "2             2        44100        16  4.000000\n",
       "3             2        44100        16  4.000000\n",
       "4             2        44100        16  4.000000"
      ]
     },
     "execution_count": 185,
     "metadata": {},
     "output_type": "execute_result"
    }
   ],
   "source": [
    "audio_data.head()"
   ]
  },
  {
   "cell_type": "markdown",
   "metadata": {},
   "source": [
    "***\n",
    "***"
   ]
  },
  {
   "cell_type": "markdown",
   "metadata": {},
   "source": [
    "## 2. Inital Data Analysis"
   ]
  },
  {
   "cell_type": "code",
   "execution_count": null,
   "metadata": {},
   "outputs": [],
   "source": []
  },
  {
   "cell_type": "markdown",
   "metadata": {},
   "source": [
    "### 2.1   Duration of Audio"
   ]
  },
  {
   "cell_type": "code",
   "execution_count": 186,
   "metadata": {},
   "outputs": [
    {
     "name": "stdout",
     "output_type": "stream",
     "text": [
      "0       0.317551\n",
      "1       4.000000\n",
      "2       4.000000\n",
      "3       4.000000\n",
      "4       4.000000\n",
      "          ...   \n",
      "8727    4.000000\n",
      "8728    2.142545\n",
      "8729    3.505983\n",
      "8730    2.532098\n",
      "8731    2.532099\n",
      "Name: duration, Length: 8732, dtype: float64\n"
     ]
    }
   ],
   "source": [
    "print(audio_data.duration)"
   ]
  },
  {
   "cell_type": "markdown",
   "metadata": {},
   "source": [
    "### 2.2 Number of Channels"
   ]
  },
  {
   "cell_type": "markdown",
   "metadata": {},
   "source": [
    "Sound Channel refers to the independent audio signal which is collected or playback when the sound is recording or playback in different spatial position. Therefore, the number of channel is the amount of sound source when the sound is recording or the relevant speaker number when it is playback"
   ]
  },
  {
   "cell_type": "code",
   "execution_count": 187,
   "metadata": {},
   "outputs": [
    {
     "name": "stdout",
     "output_type": "stream",
     "text": [
      "2    0.915369\n",
      "1    0.084631\n",
      "Name: num_channels, dtype: float64\n"
     ]
    }
   ],
   "source": [
    "print(audio_data.num_channels.value_counts(normalize=True))"
   ]
  },
  {
   "cell_type": "markdown",
   "metadata": {},
   "source": [
    "### 2.3 Bit Depth"
   ]
  },
  {
   "cell_type": "markdown",
   "metadata": {},
   "source": [
    "Bit depth describes the resolution of the sound data that is captured and stored in an audio file. A higher audio bit depth indicates a more detailed sound recording."
   ]
  },
  {
   "cell_type": "code",
   "execution_count": 188,
   "metadata": {},
   "outputs": [
    {
     "name": "stdout",
     "output_type": "stream",
     "text": [
      "16       0.659414\n",
      "24       0.315277\n",
      "T        0.019354\n",
      "U8       0.004924\n",
      "DPCM     0.000916\n",
      "ADPCM    0.000115\n",
      "Name: bit_depth, dtype: float64\n"
     ]
    }
   ],
   "source": [
    "print(audio_data.bit_depth.value_counts(normalize=True))"
   ]
  },
  {
   "cell_type": "markdown",
   "metadata": {},
   "source": [
    "### 2.4 Sampling Frequency or Sample Rate"
   ]
  },
  {
   "cell_type": "markdown",
   "metadata": {},
   "source": [
    "In audio production, a sample rate (or \"sampling frequency\") defines how many times per second a sound is sampled. Technically speaking, it is the frequency of samples used in a digital recording. "
   ]
  },
  {
   "cell_type": "code",
   "execution_count": 189,
   "metadata": {},
   "outputs": [
    {
     "name": "stdout",
     "output_type": "stream",
     "text": [
      "44100     0.614979\n",
      "48000     0.286532\n",
      "96000     0.069858\n",
      "24000     0.009391\n",
      "16000     0.005153\n",
      "22050     0.005039\n",
      "11025     0.004466\n",
      "192000    0.001947\n",
      "8000      0.001374\n",
      "11024     0.000802\n",
      "32000     0.000458\n",
      "Name: sample_rate, dtype: float64\n"
     ]
    }
   ],
   "source": [
    "print(audio_data.sample_rate.value_counts(normalize=True))"
   ]
  },
  {
   "cell_type": "markdown",
   "metadata": {},
   "source": [
    "****\n",
    "****"
   ]
  },
  {
   "cell_type": "markdown",
   "metadata": {},
   "source": [
    "## 3. Data Pre-Processing"
   ]
  },
  {
   "cell_type": "markdown",
   "metadata": {},
   "source": [
    "Using Librosa’s load() function:  \n",
    "* Converts the sampling rate to 22.05 KHz\n",
    "* Normalise the Bit-depth values of the audio\n",
    "* Merge the audio channels to Mono (a single channel) \n",
    "\n",
    "Using Librosa MFCC function: \n",
    "* Extracting Mel Frequency Cepstral Coefficient "
   ]
  },
  {
   "cell_type": "code",
   "execution_count": 190,
   "metadata": {},
   "outputs": [],
   "source": [
    "from sklearn.preprocessing import LabelEncoder\n",
    "from keras.utils import to_categorical"
   ]
  },
  {
   "cell_type": "code",
   "execution_count": 191,
   "metadata": {},
   "outputs": [],
   "source": [
    "def feature_extractor(file_name,scale=False,padding=False,max_pad=None,n=40):\n",
    "    '''\n",
    "    Function to extract features from the audio file\n",
    "    Does the following things using Librosa library:\n",
    "        - Converts the sampling rate to 22.05 KHz\n",
    "        - Normalize the Bit-depth values of the audio\n",
    "        - Merge the audio channels into a Mono (single) channel\n",
    "    Parameters: \n",
    "    Input:\n",
    "        file_name : string; \n",
    "                    Path of the file to be processed \n",
    "        scale : False; \n",
    "                True when 1D features are required calculated \n",
    "                by taking mean along the axis\n",
    "        padding : False; \n",
    "                  True when 2D features are required with padding\n",
    "        max_pad : None [int]; \n",
    "                  Maxium size of a padded image/array. \n",
    "                  Required when padding is set to True\n",
    "        n = 40 [int]; \n",
    "            Number of MFCCs to return          \n",
    "    Output:\n",
    "        mfccs = array of mfccs features.\n",
    "                (1D when scaling = True\n",
    "                 2D when padding = True)   \n",
    "    '''\n",
    "    try:        \n",
    "        audio, sample_rate = librosa.load(file_name, \n",
    "                                          res_type='kaiser_fast') \n",
    "        \n",
    "        mfccs = librosa.feature.mfcc(y = audio, \n",
    "                                     sr = sample_rate, \n",
    "                                     n_mfcc = n) \n",
    "            \n",
    "        if padding:\n",
    "            pad_width = max_pad - mfccs.shape[1]\n",
    "            mfccs = np.pad(mfccs, \n",
    "                           pad_width=((0, 0), (0, pad_width)), \n",
    "                           mode='constant')\n",
    "            \n",
    "        if scale: \n",
    "            mfccs = np.mean(mfccs.T,axis=0)\n",
    "        \n",
    "    except Exception as e:\n",
    "        print(\"Error encountered while parsing file: \", file_name)\n",
    "        return None \n",
    "     \n",
    "    return mfccs"
   ]
  },
  {
   "cell_type": "markdown",
   "metadata": {},
   "source": [
    "### 1-Dimensional Feature Extraction"
   ]
  },
  {
   "cell_type": "code",
   "execution_count": 203,
   "metadata": {},
   "outputs": [
    {
     "name": "stdout",
     "output_type": "stream",
     "text": [
      "Processed  8732  files\n",
      "Output Feature shape  (40,)\n"
     ]
    }
   ],
   "source": [
    "feat_list = []\n",
    "for index, row in meta_data.iterrows():\n",
    "    \n",
    "    file_name = os.path.join(os.path.abspath('audio/'),\n",
    "                             'fold'+str(row[\"fold\"])+'/',\n",
    "                             str(row[\"slice_file_name\"]))\n",
    "    class_label = row[\"class\"]\n",
    "    \n",
    "    data = feature_extractor(file_name,scale=True)\n",
    "    feat_list.append([data, class_label])\n",
    "\n",
    "features_1D = pd.DataFrame(feat_list, columns=['feature','class_label'])\n",
    "\n",
    "print('Processed ', len(features_1D), ' files')\n",
    "print('Output Feature shape ',np.shape(features_1D.iloc[0,0]))"
   ]
  },
  {
   "cell_type": "markdown",
   "metadata": {},
   "source": [
    "### 2-Dimensional Feature Extraction with Padding"
   ]
  },
  {
   "cell_type": "code",
   "execution_count": 202,
   "metadata": {},
   "outputs": [
    {
     "name": "stdout",
     "output_type": "stream",
     "text": [
      "Processed  8732  files\n",
      "Output Feature shape  (40, 174)\n"
     ]
    }
   ],
   "source": [
    "feat_list = []\n",
    "for index, row in meta_data.iterrows():\n",
    "    \n",
    "    file_name = os.path.join(os.path.abspath('audio/'),\n",
    "                             'fold'+ str(row[\"fold\"])+'/',\n",
    "                             str(row[\"slice_file_name\"]))\n",
    "    class_label = row[\"class\"]\n",
    "    \n",
    "    data = feature_extractor(file_name,padding=True,max_pad = 174)\n",
    "    feat_list.append([data, class_label])\n",
    "\n",
    "features_2D = pd.DataFrame(feat_list, columns=['feature','class_label'])\n",
    "\n",
    "print('Processed ', len(features_2D), ' files')\n",
    "print('Output Feature shape ',np.shape(features_2D.iloc[0,0]))"
   ]
  },
  {
   "cell_type": "markdown",
   "metadata": {},
   "source": [
    "### Label Encoding"
   ]
  },
  {
   "cell_type": "code",
   "execution_count": 204,
   "metadata": {},
   "outputs": [],
   "source": [
    "# Convert features and corresponding classification labels into numpy arrays\n",
    "X_1D = np.array(features_1D.feature.tolist())\n",
    "y_1D = np.array(features_1D.class_label.tolist())\n",
    "\n",
    "# Encode the classification labels\n",
    "label_encoder = LabelEncoder()\n",
    "yy_1D = to_categorical(label_encoder.fit_transform(y_1D))"
   ]
  },
  {
   "cell_type": "code",
   "execution_count": 205,
   "metadata": {},
   "outputs": [],
   "source": [
    "# Convert features and corresponding classification labels into numpy arrays\n",
    "X_2D = np.array(features_2D.feature.tolist())\n",
    "y_2D = np.array(features_2D.class_label.tolist())\n",
    "\n",
    "# Encode the classification labels\n",
    "yy_2D = to_categorical(label_encoder.transform(y_2D)) "
   ]
  },
  {
   "cell_type": "markdown",
   "metadata": {},
   "source": [
    "### Splitting the Dataset"
   ]
  },
  {
   "cell_type": "code",
   "execution_count": 206,
   "metadata": {},
   "outputs": [],
   "source": [
    "x_train_1D, x_test_1D, y_train_1D, y_test_1D = train_test_split(X_1D, yy_1D, test_size=0.2, random_state = 42)\n",
    "x_train_2D, x_test_2D, y_train_2D, y_test_2D = train_test_split(X_2D, yy_2D, test_size=0.2, random_state = 42)"
   ]
  },
  {
   "cell_type": "markdown",
   "metadata": {},
   "source": [
    "****\n",
    "****"
   ]
  },
  {
   "cell_type": "markdown",
   "metadata": {},
   "source": [
    "# Classification using Different Algorithms"
   ]
  },
  {
   "cell_type": "markdown",
   "metadata": {},
   "source": [
    "Following will be used for classification:    \n",
    "    \n",
    "1. Random Forest\n",
    "2. Support Vector Machine \n",
    "2. Mulit-layer Perceptron (ANN)\n",
    "3. Convolutional Neural Network (CNN)"
   ]
  },
  {
   "cell_type": "markdown",
   "metadata": {},
   "source": [
    "## 1. Random Forest Classification"
   ]
  },
  {
   "cell_type": "code",
   "execution_count": null,
   "metadata": {},
   "outputs": [],
   "source": []
  },
  {
   "cell_type": "code",
   "execution_count": null,
   "metadata": {},
   "outputs": [],
   "source": []
  },
  {
   "cell_type": "markdown",
   "metadata": {},
   "source": [
    "## 2. Support Vector Machine   "
   ]
  },
  {
   "cell_type": "code",
   "execution_count": 15,
   "metadata": {},
   "outputs": [],
   "source": [
    "from sklearn import svm\n",
    "from sklearn.metrics import roc_curve\n",
    "from sklearn.metrics import roc_auc_score\n",
    "from sklearn.model_selection import GridSearchCV\n",
    "from sklearn.metrics import confusion_matrix\n",
    "from sklearn.utils.multiclass import unique_labels\n",
    "def plot_confusion_matrix(y_true, y_pred, classes,\n",
    "                          normalize=False,\n",
    "                          title=None,\n",
    "                          cmap=plt.cm.Blues):\n",
    "    \"\"\"\n",
    "    This function prints and plots the confusion matrix.\n",
    "    Normalization can be applied by setting `normalize=True`.\n",
    "    \"\"\"\n",
    "    if not title:\n",
    "        if normalize:\n",
    "            title = 'Normalized confusion matrix'\n",
    "        else:\n",
    "            title = 'Confusion matrix, without normalization'\n",
    "\n",
    "    # Compute confusion matrix\n",
    "    cm = confusion_matrix(y_true, y_pred)\n",
    "    # Only use the labels that appear in the data\n",
    "    classes = classes[unique_labels(y_true, y_pred)]\n",
    "    #if normalize:\n",
    "    #    cm = cm.astype('float') / cm.sum(axis=1)[:, np.newaxis]\n",
    "    #    print(\"Normalized confusion matrix\")\n",
    "    #else:\n",
    "    #    print('Confusion matrix, without normalization')\n",
    "\n",
    "    #print(cm)\n",
    "\n",
    "    fig, ax = plt.subplots(figsize = (8,8))\n",
    "    im = ax.imshow(cm, interpolation='nearest', cmap=cmap)\n",
    "    ax.figure.colorbar(im, ax=ax)\n",
    "    # We want to show all ticks...\n",
    "    ax.set(xticks=np.arange(cm.shape[1]),\n",
    "           yticks=np.arange(cm.shape[0]),\n",
    "           # ... and label them with the respective list entries\n",
    "           xticklabels=classes, yticklabels=classes,\n",
    "           title=title,\n",
    "           ylabel='True label',\n",
    "           xlabel='Predicted label')\n",
    "\n",
    "    # Rotate the tick labels and set their alignment.\n",
    "    plt.setp(ax.get_xticklabels(), rotation=45, ha=\"right\",\n",
    "             rotation_mode=\"anchor\")\n",
    "\n",
    "    # Loop over data dimensions and create text annotations.\n",
    "    fmt = '.2f' if normalize else 'd'\n",
    "    thresh = cm.max() / 2.\n",
    "    for i in range(cm.shape[0]):\n",
    "        for j in range(cm.shape[1]):\n",
    "            ax.text(j, i, format(cm[i, j], fmt),\n",
    "                    ha=\"center\", va=\"center\",\n",
    "                    color=\"white\" if cm[i, j] > thresh else \"black\")\n",
    "    fig.tight_layout()\n",
    "    return ax"
   ]
  },
  {
   "cell_type": "markdown",
   "metadata": {},
   "source": [
    "### Search for Hyperparameter Space"
   ]
  },
  {
   "cell_type": "code",
   "execution_count": null,
   "metadata": {},
   "outputs": [],
   "source": [
    "tuned_parameters = [{'kernel': ['rbf'], 'gamma': [1e-3, 1e-4, 1e-5],'C': [1, 10 ,20,30,40,50]}]\n",
    "searchpara = GridSearchCV(svm.SVC(), tuned_parameters)\n",
    "searchpara.fit(x_train, y_train)\n",
    "searchpara.best_params_"
   ]
  },
  {
   "cell_type": "markdown",
   "metadata": {},
   "source": [
    "### Model Definition"
   ]
  },
  {
   "cell_type": "code",
   "execution_count": null,
   "metadata": {},
   "outputs": [],
   "source": [
    "# construct the model by the best hyperparameters found above\n",
    "SVM = svm.SVC(C=50.0, gamma=0.0001)"
   ]
  },
  {
   "cell_type": "markdown",
   "metadata": {},
   "source": [
    "### Model Execution"
   ]
  },
  {
   "cell_type": "code",
   "execution_count": null,
   "metadata": {},
   "outputs": [],
   "source": [
    "SVM.fit(x_train,y_train)"
   ]
  },
  {
   "cell_type": "markdown",
   "metadata": {},
   "source": [
    "### Model Evaluation"
   ]
  },
  {
   "cell_type": "markdown",
   "metadata": {},
   "source": [
    "#### Accuracy"
   ]
  },
  {
   "cell_type": "code",
   "execution_count": null,
   "metadata": {},
   "outputs": [],
   "source": [
    "train_accu =  SVM.score(x_train, y_train)\n",
    "test_accu = SVM.score(x_test, y_test)\n",
    "print('Training Accuracy:　', train_accu)\n",
    "print('Test Accuracy:　', test_accu)"
   ]
  },
  {
   "cell_type": "markdown",
   "metadata": {},
   "source": [
    "#### Confusion Matrix"
   ]
  },
  {
   "cell_type": "code",
   "execution_count": null,
   "metadata": {},
   "outputs": [],
   "source": [
    "y_pred = SVM.predict(x_test)\n",
    "class_names = metadata.groupby(['class', 'classID'], as_index = False).sum()['class']\n",
    "plot_confusion_matrix(y_test, y_pred, classes=class_names, cmap=plt.cm.Blues)\n",
    "plt.show()"
   ]
  },
  {
   "cell_type": "markdown",
   "metadata": {},
   "source": [
    "## 3. Multi-Layer perceptron"
   ]
  },
  {
   "cell_type": "code",
   "execution_count": 207,
   "metadata": {},
   "outputs": [],
   "source": [
    "import numpy as np\n",
    "from keras.models import Sequential\n",
    "from keras.layers import Dense, Dropout, Activation, Flatten\n",
    "from keras.layers import Convolution2D, Conv2D, MaxPooling2D, GlobalAveragePooling2D\n",
    "from keras.layers import Convolution2D, MaxPooling2D\n",
    "from keras.optimizers import Adam\n",
    "from keras.utils import np_utils\n",
    "from sklearn import metrics \n",
    "from keras.callbacks import ModelCheckpoint \n",
    "from datetime import datetime \n",
    "from sklearn.preprocessing import LabelEncoder\n",
    "from keras.utils import to_categorical\n",
    "from sklearn.model_selection import train_test_split "
   ]
  },
  {
   "cell_type": "markdown",
   "metadata": {},
   "source": [
    "### Model Definition"
   ]
  },
  {
   "cell_type": "code",
   "execution_count": 208,
   "metadata": {},
   "outputs": [],
   "source": [
    "num_labels = yy_1D.shape[1]\n",
    "filter_size = 2\n",
    "\n",
    "# Construct model \n",
    "model = Sequential()\n",
    "\n",
    "model.add(Dense(256, input_shape=(40,)))\n",
    "model.add(Activation('relu'))\n",
    "model.add(Dropout(0.5))\n",
    "\n",
    "model.add(Dense(256))\n",
    "model.add(Activation('relu'))\n",
    "model.add(Dropout(0.5))\n",
    "\n",
    "model.add(Dense(num_labels))\n",
    "model.add(Activation('softmax'))\n",
    "\n",
    "model.compile(loss='categorical_crossentropy', metrics=['accuracy'], optimizer='adam')"
   ]
  },
  {
   "cell_type": "markdown",
   "metadata": {},
   "source": [
    "### Model Summary"
   ]
  },
  {
   "cell_type": "code",
   "execution_count": 210,
   "metadata": {},
   "outputs": [
    {
     "name": "stdout",
     "output_type": "stream",
     "text": [
      "Model: \"sequential_5\"\n",
      "_________________________________________________________________\n",
      "Layer (type)                 Output Shape              Param #   \n",
      "=================================================================\n",
      "dense_9 (Dense)              (None, 256)               10496     \n",
      "_________________________________________________________________\n",
      "activation_7 (Activation)    (None, 256)               0         \n",
      "_________________________________________________________________\n",
      "dropout_13 (Dropout)         (None, 256)               0         \n",
      "_________________________________________________________________\n",
      "dense_10 (Dense)             (None, 256)               65792     \n",
      "_________________________________________________________________\n",
      "activation_8 (Activation)    (None, 256)               0         \n",
      "_________________________________________________________________\n",
      "dropout_14 (Dropout)         (None, 256)               0         \n",
      "_________________________________________________________________\n",
      "dense_11 (Dense)             (None, 10)                2570      \n",
      "_________________________________________________________________\n",
      "activation_9 (Activation)    (None, 10)                0         \n",
      "=================================================================\n",
      "Total params: 78,858\n",
      "Trainable params: 78,858\n",
      "Non-trainable params: 0\n",
      "_________________________________________________________________\n",
      "Pre-training accuracy: 15.6764%\n"
     ]
    }
   ],
   "source": [
    "model.summary()\n",
    "\n",
    "# Calculate pre-training accuracy \n",
    "score = model.evaluate(x_train_1D, y_train_1D, verbose=0)\n",
    "accuracy = 100*score[1]\n",
    "\n",
    "print(\"Pre-training accuracy: %.4f%%\" % accuracy)"
   ]
  },
  {
   "cell_type": "markdown",
   "metadata": {},
   "source": [
    "### Model Execution"
   ]
  },
  {
   "cell_type": "code",
   "execution_count": 211,
   "metadata": {
    "collapsed": true,
    "jupyter": {
     "outputs_hidden": true
    }
   },
   "outputs": [
    {
     "name": "stdout",
     "output_type": "stream",
     "text": [
      "Train on 6985 samples, validate on 1747 samples\n",
      "Epoch 1/100\n",
      "6985/6985 [==============================] - 1s 87us/step - loss: 7.8396 - accuracy: 0.1990 - val_loss: 2.1262 - val_accuracy: 0.2559\n",
      "\n",
      "Epoch 00001: val_loss improved from inf to 2.12625, saving model to saved_models/weights.best.basic_mlp.hdf5\n",
      "Epoch 2/100\n",
      "6985/6985 [==============================] - 0s 58us/step - loss: 2.2318 - accuracy: 0.2527 - val_loss: 1.9289 - val_accuracy: 0.3641\n",
      "\n",
      "Epoch 00002: val_loss improved from 2.12625 to 1.92894, saving model to saved_models/weights.best.basic_mlp.hdf5\n",
      "Epoch 3/100\n",
      "6985/6985 [==============================] - 0s 59us/step - loss: 1.9758 - accuracy: 0.3094 - val_loss: 1.7855 - val_accuracy: 0.4259\n",
      "\n",
      "Epoch 00003: val_loss improved from 1.92894 to 1.78551, saving model to saved_models/weights.best.basic_mlp.hdf5\n",
      "Epoch 4/100\n",
      "6985/6985 [==============================] - 0s 58us/step - loss: 1.8593 - accuracy: 0.3530 - val_loss: 1.6091 - val_accuracy: 0.4310\n",
      "\n",
      "Epoch 00004: val_loss improved from 1.78551 to 1.60913, saving model to saved_models/weights.best.basic_mlp.hdf5\n",
      "Epoch 5/100\n",
      "6985/6985 [==============================] - 0s 58us/step - loss: 1.7019 - accuracy: 0.4129 - val_loss: 1.4542 - val_accuracy: 0.5455\n",
      "\n",
      "Epoch 00005: val_loss improved from 1.60913 to 1.45419, saving model to saved_models/weights.best.basic_mlp.hdf5\n",
      "Epoch 6/100\n",
      "6985/6985 [==============================] - 0s 58us/step - loss: 1.5791 - accuracy: 0.4451 - val_loss: 1.3222 - val_accuracy: 0.5758\n",
      "\n",
      "Epoch 00006: val_loss improved from 1.45419 to 1.32223, saving model to saved_models/weights.best.basic_mlp.hdf5\n",
      "Epoch 7/100\n",
      "6985/6985 [==============================] - 0s 59us/step - loss: 1.4802 - accuracy: 0.4880 - val_loss: 1.2142 - val_accuracy: 0.6171\n",
      "\n",
      "Epoch 00007: val_loss improved from 1.32223 to 1.21416, saving model to saved_models/weights.best.basic_mlp.hdf5\n",
      "Epoch 8/100\n",
      "6985/6985 [==============================] - 0s 59us/step - loss: 1.3947 - accuracy: 0.5183 - val_loss: 1.1301 - val_accuracy: 0.6394\n",
      "\n",
      "Epoch 00008: val_loss improved from 1.21416 to 1.13010, saving model to saved_models/weights.best.basic_mlp.hdf5\n",
      "Epoch 9/100\n",
      "6985/6985 [==============================] - 0s 60us/step - loss: 1.3364 - accuracy: 0.5442 - val_loss: 1.0960 - val_accuracy: 0.6732\n",
      "\n",
      "Epoch 00009: val_loss improved from 1.13010 to 1.09598, saving model to saved_models/weights.best.basic_mlp.hdf5\n",
      "Epoch 10/100\n",
      "6985/6985 [==============================] - 0s 60us/step - loss: 1.2607 - accuracy: 0.5661 - val_loss: 1.0058 - val_accuracy: 0.6737\n",
      "\n",
      "Epoch 00010: val_loss improved from 1.09598 to 1.00581, saving model to saved_models/weights.best.basic_mlp.hdf5\n",
      "Epoch 11/100\n",
      "6985/6985 [==============================] - 0s 61us/step - loss: 1.2322 - accuracy: 0.5814 - val_loss: 1.0005 - val_accuracy: 0.6943\n",
      "\n",
      "Epoch 00011: val_loss improved from 1.00581 to 1.00049, saving model to saved_models/weights.best.basic_mlp.hdf5\n",
      "Epoch 12/100\n",
      "6985/6985 [==============================] - 0s 47us/step - loss: 1.1742 - accuracy: 0.6034 - val_loss: 0.9344 - val_accuracy: 0.7075\n",
      "\n",
      "Epoch 00012: val_loss improved from 1.00049 to 0.93442, saving model to saved_models/weights.best.basic_mlp.hdf5\n",
      "Epoch 13/100\n",
      "6985/6985 [==============================] - 0s 45us/step - loss: 1.1395 - accuracy: 0.6084 - val_loss: 0.9163 - val_accuracy: 0.7104\n",
      "\n",
      "Epoch 00013: val_loss improved from 0.93442 to 0.91628, saving model to saved_models/weights.best.basic_mlp.hdf5\n",
      "Epoch 14/100\n",
      "6985/6985 [==============================] - 0s 50us/step - loss: 1.1081 - accuracy: 0.6291 - val_loss: 0.8714 - val_accuracy: 0.7333\n",
      "\n",
      "Epoch 00014: val_loss improved from 0.91628 to 0.87145, saving model to saved_models/weights.best.basic_mlp.hdf5\n",
      "Epoch 15/100\n",
      "6985/6985 [==============================] - 0s 58us/step - loss: 1.0561 - accuracy: 0.6399 - val_loss: 0.8606 - val_accuracy: 0.7207\n",
      "\n",
      "Epoch 00015: val_loss improved from 0.87145 to 0.86055, saving model to saved_models/weights.best.basic_mlp.hdf5\n",
      "Epoch 16/100\n",
      "6985/6985 [==============================] - 0s 60us/step - loss: 1.0395 - accuracy: 0.6507 - val_loss: 0.8275 - val_accuracy: 0.7327\n",
      "\n",
      "Epoch 00016: val_loss improved from 0.86055 to 0.82752, saving model to saved_models/weights.best.basic_mlp.hdf5\n",
      "Epoch 17/100\n",
      "6985/6985 [==============================] - 0s 57us/step - loss: 1.0156 - accuracy: 0.6523 - val_loss: 0.8267 - val_accuracy: 0.7378\n",
      "\n",
      "Epoch 00017: val_loss improved from 0.82752 to 0.82667, saving model to saved_models/weights.best.basic_mlp.hdf5\n",
      "Epoch 18/100\n",
      "6985/6985 [==============================] - 0s 48us/step - loss: 0.9723 - accuracy: 0.6744 - val_loss: 0.7764 - val_accuracy: 0.7481\n",
      "\n",
      "Epoch 00018: val_loss improved from 0.82667 to 0.77641, saving model to saved_models/weights.best.basic_mlp.hdf5\n",
      "Epoch 19/100\n",
      "6985/6985 [==============================] - 0s 46us/step - loss: 0.9676 - accuracy: 0.6732 - val_loss: 0.7209 - val_accuracy: 0.7676\n",
      "\n",
      "Epoch 00019: val_loss improved from 0.77641 to 0.72091, saving model to saved_models/weights.best.basic_mlp.hdf5\n",
      "Epoch 20/100\n",
      "6985/6985 [==============================] - 0s 50us/step - loss: 0.9502 - accuracy: 0.6769 - val_loss: 0.7593 - val_accuracy: 0.7670\n",
      "\n",
      "Epoch 00020: val_loss did not improve from 0.72091\n",
      "Epoch 21/100\n",
      "6985/6985 [==============================] - 0s 52us/step - loss: 0.9291 - accuracy: 0.6866 - val_loss: 0.7374 - val_accuracy: 0.7642\n",
      "\n",
      "Epoch 00021: val_loss did not improve from 0.72091\n",
      "Epoch 22/100\n",
      "6985/6985 [==============================] - 0s 51us/step - loss: 0.8679 - accuracy: 0.7077 - val_loss: 0.6788 - val_accuracy: 0.7974\n",
      "\n",
      "Epoch 00022: val_loss improved from 0.72091 to 0.67882, saving model to saved_models/weights.best.basic_mlp.hdf5\n",
      "Epoch 23/100\n",
      "6985/6985 [==============================] - 0s 55us/step - loss: 0.8659 - accuracy: 0.7088 - val_loss: 0.6623 - val_accuracy: 0.8008\n",
      "\n",
      "Epoch 00023: val_loss improved from 0.67882 to 0.66230, saving model to saved_models/weights.best.basic_mlp.hdf5\n",
      "Epoch 24/100\n",
      "6985/6985 [==============================] - 0s 60us/step - loss: 0.8632 - accuracy: 0.7102 - val_loss: 0.6562 - val_accuracy: 0.7939\n",
      "\n",
      "Epoch 00024: val_loss improved from 0.66230 to 0.65622, saving model to saved_models/weights.best.basic_mlp.hdf5\n",
      "Epoch 25/100\n",
      "6985/6985 [==============================] - 0s 60us/step - loss: 0.8317 - accuracy: 0.7135 - val_loss: 0.6565 - val_accuracy: 0.7922\n",
      "\n",
      "Epoch 00025: val_loss did not improve from 0.65622\n",
      "Epoch 26/100\n",
      "6985/6985 [==============================] - 0s 53us/step - loss: 0.8343 - accuracy: 0.7155 - val_loss: 0.6302 - val_accuracy: 0.7991\n",
      "\n",
      "Epoch 00026: val_loss improved from 0.65622 to 0.63024, saving model to saved_models/weights.best.basic_mlp.hdf5\n",
      "Epoch 27/100\n",
      "6985/6985 [==============================] - 0s 54us/step - loss: 0.8190 - accuracy: 0.7244 - val_loss: 0.6352 - val_accuracy: 0.7991\n",
      "\n",
      "Epoch 00027: val_loss did not improve from 0.63024\n",
      "Epoch 28/100\n",
      "6985/6985 [==============================] - 0s 44us/step - loss: 0.8053 - accuracy: 0.7268 - val_loss: 0.6364 - val_accuracy: 0.8019\n",
      "\n",
      "Epoch 00028: val_loss did not improve from 0.63024\n",
      "Epoch 29/100\n",
      "6985/6985 [==============================] - 0s 44us/step - loss: 0.7897 - accuracy: 0.7283 - val_loss: 0.6309 - val_accuracy: 0.8037\n",
      "\n",
      "Epoch 00029: val_loss did not improve from 0.63024\n",
      "Epoch 30/100\n",
      "6985/6985 [==============================] - 0s 45us/step - loss: 0.7804 - accuracy: 0.7350 - val_loss: 0.6024 - val_accuracy: 0.8197\n",
      "\n",
      "Epoch 00030: val_loss improved from 0.63024 to 0.60240, saving model to saved_models/weights.best.basic_mlp.hdf5\n",
      "Epoch 31/100\n",
      "6985/6985 [==============================] - 0s 44us/step - loss: 0.7534 - accuracy: 0.7427 - val_loss: 0.5902 - val_accuracy: 0.8185\n",
      "\n",
      "Epoch 00031: val_loss improved from 0.60240 to 0.59018, saving model to saved_models/weights.best.basic_mlp.hdf5\n",
      "Epoch 32/100\n",
      "6985/6985 [==============================] - 0s 44us/step - loss: 0.7593 - accuracy: 0.7422 - val_loss: 0.6083 - val_accuracy: 0.8163\n",
      "\n",
      "Epoch 00032: val_loss did not improve from 0.59018\n",
      "Epoch 33/100\n",
      "6985/6985 [==============================] - 0s 45us/step - loss: 0.7528 - accuracy: 0.7413 - val_loss: 0.5655 - val_accuracy: 0.8334\n",
      "\n",
      "Epoch 00033: val_loss improved from 0.59018 to 0.56546, saving model to saved_models/weights.best.basic_mlp.hdf5\n",
      "Epoch 34/100\n",
      "6985/6985 [==============================] - 0s 45us/step - loss: 0.7392 - accuracy: 0.7533 - val_loss: 0.5806 - val_accuracy: 0.8134\n",
      "\n",
      "Epoch 00034: val_loss did not improve from 0.56546\n",
      "Epoch 35/100\n",
      "6985/6985 [==============================] - 0s 44us/step - loss: 0.7405 - accuracy: 0.7443 - val_loss: 0.5636 - val_accuracy: 0.8323\n",
      "\n",
      "Epoch 00035: val_loss improved from 0.56546 to 0.56364, saving model to saved_models/weights.best.basic_mlp.hdf5\n",
      "Epoch 36/100\n",
      "6985/6985 [==============================] - 0s 47us/step - loss: 0.7269 - accuracy: 0.7562 - val_loss: 0.5762 - val_accuracy: 0.8300\n",
      "\n",
      "Epoch 00036: val_loss did not improve from 0.56364\n",
      "Epoch 37/100\n",
      "6985/6985 [==============================] - 0s 45us/step - loss: 0.6909 - accuracy: 0.7651 - val_loss: 0.5594 - val_accuracy: 0.8380\n",
      "\n",
      "Epoch 00037: val_loss improved from 0.56364 to 0.55939, saving model to saved_models/weights.best.basic_mlp.hdf5\n",
      "Epoch 38/100\n",
      "6985/6985 [==============================] - 0s 46us/step - loss: 0.7149 - accuracy: 0.7571 - val_loss: 0.5603 - val_accuracy: 0.8369\n",
      "\n",
      "Epoch 00038: val_loss did not improve from 0.55939\n",
      "Epoch 39/100\n",
      "6985/6985 [==============================] - 0s 45us/step - loss: 0.7070 - accuracy: 0.7571 - val_loss: 0.5649 - val_accuracy: 0.8323\n",
      "\n",
      "Epoch 00039: val_loss did not improve from 0.55939\n",
      "Epoch 40/100\n",
      "6985/6985 [==============================] - 0s 45us/step - loss: 0.6944 - accuracy: 0.7638 - val_loss: 0.5752 - val_accuracy: 0.8237\n",
      "\n",
      "Epoch 00040: val_loss did not improve from 0.55939\n",
      "Epoch 41/100\n",
      "6985/6985 [==============================] - 0s 45us/step - loss: 0.6878 - accuracy: 0.7641 - val_loss: 0.5597 - val_accuracy: 0.8334\n",
      "\n",
      "Epoch 00041: val_loss did not improve from 0.55939\n",
      "Epoch 42/100\n",
      "6985/6985 [==============================] - 0s 45us/step - loss: 0.6883 - accuracy: 0.7696 - val_loss: 0.5701 - val_accuracy: 0.8197\n",
      "\n",
      "Epoch 00042: val_loss did not improve from 0.55939\n",
      "Epoch 43/100\n",
      "6985/6985 [==============================] - 0s 45us/step - loss: 0.6844 - accuracy: 0.7641 - val_loss: 0.5610 - val_accuracy: 0.8414\n",
      "\n",
      "Epoch 00043: val_loss did not improve from 0.55939\n",
      "Epoch 44/100\n",
      "6985/6985 [==============================] - 0s 46us/step - loss: 0.6770 - accuracy: 0.7699 - val_loss: 0.5350 - val_accuracy: 0.8552\n",
      "\n",
      "Epoch 00044: val_loss improved from 0.55939 to 0.53503, saving model to saved_models/weights.best.basic_mlp.hdf5\n",
      "Epoch 45/100\n",
      "6985/6985 [==============================] - 0s 46us/step - loss: 0.6929 - accuracy: 0.7709 - val_loss: 0.5371 - val_accuracy: 0.8403\n",
      "\n",
      "Epoch 00045: val_loss did not improve from 0.53503\n",
      "Epoch 46/100\n",
      "6985/6985 [==============================] - 0s 45us/step - loss: 0.6627 - accuracy: 0.7734 - val_loss: 0.5318 - val_accuracy: 0.8483\n",
      "\n",
      "Epoch 00046: val_loss improved from 0.53503 to 0.53179, saving model to saved_models/weights.best.basic_mlp.hdf5\n",
      "Epoch 47/100\n",
      "6985/6985 [==============================] - 0s 46us/step - loss: 0.6607 - accuracy: 0.7735 - val_loss: 0.5408 - val_accuracy: 0.8414\n",
      "\n",
      "Epoch 00047: val_loss did not improve from 0.53179\n",
      "Epoch 48/100\n",
      "6985/6985 [==============================] - 0s 45us/step - loss: 0.6507 - accuracy: 0.7780 - val_loss: 0.5286 - val_accuracy: 0.8454\n",
      "\n",
      "Epoch 00048: val_loss improved from 0.53179 to 0.52864, saving model to saved_models/weights.best.basic_mlp.hdf5\n",
      "Epoch 49/100\n",
      "6985/6985 [==============================] - 0s 45us/step - loss: 0.6393 - accuracy: 0.7831 - val_loss: 0.5298 - val_accuracy: 0.8420\n",
      "\n",
      "Epoch 00049: val_loss did not improve from 0.52864\n",
      "Epoch 50/100\n",
      "6985/6985 [==============================] - 0s 49us/step - loss: 0.6630 - accuracy: 0.7795 - val_loss: 0.5228 - val_accuracy: 0.8454\n",
      "\n",
      "Epoch 00050: val_loss improved from 0.52864 to 0.52278, saving model to saved_models/weights.best.basic_mlp.hdf5\n",
      "Epoch 51/100\n",
      "6985/6985 [==============================] - 0s 46us/step - loss: 0.6266 - accuracy: 0.7861 - val_loss: 0.5166 - val_accuracy: 0.8460\n",
      "\n",
      "Epoch 00051: val_loss improved from 0.52278 to 0.51658, saving model to saved_models/weights.best.basic_mlp.hdf5\n",
      "Epoch 52/100\n",
      "6985/6985 [==============================] - 0s 47us/step - loss: 0.6343 - accuracy: 0.7841 - val_loss: 0.4939 - val_accuracy: 0.8552\n",
      "\n",
      "Epoch 00052: val_loss improved from 0.51658 to 0.49394, saving model to saved_models/weights.best.basic_mlp.hdf5\n",
      "Epoch 53/100\n",
      "6985/6985 [==============================] - 0s 46us/step - loss: 0.6274 - accuracy: 0.7893 - val_loss: 0.5120 - val_accuracy: 0.8472\n",
      "\n",
      "Epoch 00053: val_loss did not improve from 0.49394\n",
      "Epoch 54/100\n",
      "6985/6985 [==============================] - 0s 45us/step - loss: 0.6527 - accuracy: 0.7815 - val_loss: 0.5207 - val_accuracy: 0.8437\n",
      "\n",
      "Epoch 00054: val_loss did not improve from 0.49394\n",
      "Epoch 55/100\n",
      "6985/6985 [==============================] - 0s 45us/step - loss: 0.5928 - accuracy: 0.7940 - val_loss: 0.5160 - val_accuracy: 0.8558\n",
      "\n",
      "Epoch 00055: val_loss did not improve from 0.49394\n",
      "Epoch 56/100\n",
      "6985/6985 [==============================] - 0s 45us/step - loss: 0.6123 - accuracy: 0.7904 - val_loss: 0.4837 - val_accuracy: 0.8529\n",
      "\n",
      "Epoch 00056: val_loss improved from 0.49394 to 0.48368, saving model to saved_models/weights.best.basic_mlp.hdf5\n",
      "Epoch 57/100\n",
      "6985/6985 [==============================] - 0s 45us/step - loss: 0.6350 - accuracy: 0.7817 - val_loss: 0.4872 - val_accuracy: 0.8609\n",
      "\n",
      "Epoch 00057: val_loss did not improve from 0.48368\n",
      "Epoch 58/100\n",
      "6985/6985 [==============================] - 0s 46us/step - loss: 0.6176 - accuracy: 0.7926 - val_loss: 0.4949 - val_accuracy: 0.8615\n",
      "\n",
      "Epoch 00058: val_loss did not improve from 0.48368\n",
      "Epoch 59/100\n",
      "6985/6985 [==============================] - 0s 52us/step - loss: 0.6114 - accuracy: 0.7916 - val_loss: 0.5238 - val_accuracy: 0.8603\n",
      "\n",
      "Epoch 00059: val_loss did not improve from 0.48368\n",
      "Epoch 60/100\n",
      "6985/6985 [==============================] - 0s 50us/step - loss: 0.6335 - accuracy: 0.7857 - val_loss: 0.4810 - val_accuracy: 0.8540\n",
      "\n",
      "Epoch 00060: val_loss improved from 0.48368 to 0.48096, saving model to saved_models/weights.best.basic_mlp.hdf5\n",
      "Epoch 61/100\n",
      "6985/6985 [==============================] - 0s 52us/step - loss: 0.6204 - accuracy: 0.7890 - val_loss: 0.4906 - val_accuracy: 0.8620\n",
      "\n",
      "Epoch 00061: val_loss did not improve from 0.48096\n",
      "Epoch 62/100\n",
      "6985/6985 [==============================] - 0s 54us/step - loss: 0.6214 - accuracy: 0.7921 - val_loss: 0.5005 - val_accuracy: 0.8535\n",
      "\n",
      "Epoch 00062: val_loss did not improve from 0.48096\n",
      "Epoch 63/100\n",
      "6985/6985 [==============================] - 0s 54us/step - loss: 0.6085 - accuracy: 0.7885 - val_loss: 0.4941 - val_accuracy: 0.8466\n",
      "\n",
      "Epoch 00063: val_loss did not improve from 0.48096\n",
      "Epoch 64/100\n",
      "6985/6985 [==============================] - 0s 56us/step - loss: 0.5892 - accuracy: 0.8033 - val_loss: 0.4779 - val_accuracy: 0.8598\n",
      "\n",
      "Epoch 00064: val_loss improved from 0.48096 to 0.47787, saving model to saved_models/weights.best.basic_mlp.hdf5\n",
      "Epoch 65/100\n",
      "6985/6985 [==============================] - 0s 57us/step - loss: 0.6037 - accuracy: 0.7956 - val_loss: 0.4844 - val_accuracy: 0.8558\n",
      "\n",
      "Epoch 00065: val_loss did not improve from 0.47787\n",
      "Epoch 66/100\n",
      "6985/6985 [==============================] - 0s 61us/step - loss: 0.5999 - accuracy: 0.8010 - val_loss: 0.4886 - val_accuracy: 0.8643\n",
      "\n",
      "Epoch 00066: val_loss did not improve from 0.47787\n",
      "Epoch 67/100\n",
      "6985/6985 [==============================] - 0s 59us/step - loss: 0.5879 - accuracy: 0.8024 - val_loss: 0.4834 - val_accuracy: 0.8558\n",
      "\n",
      "Epoch 00067: val_loss did not improve from 0.47787\n",
      "Epoch 68/100\n",
      "6985/6985 [==============================] - 0s 59us/step - loss: 0.5841 - accuracy: 0.8007 - val_loss: 0.4868 - val_accuracy: 0.8626\n",
      "\n",
      "Epoch 00068: val_loss did not improve from 0.47787\n",
      "Epoch 69/100\n",
      "6985/6985 [==============================] - 0s 58us/step - loss: 0.5741 - accuracy: 0.7990 - val_loss: 0.4884 - val_accuracy: 0.8643\n",
      "\n",
      "Epoch 00069: val_loss did not improve from 0.47787\n",
      "Epoch 70/100\n",
      "6985/6985 [==============================] - 0s 57us/step - loss: 0.5814 - accuracy: 0.8077 - val_loss: 0.4482 - val_accuracy: 0.8678\n",
      "\n",
      "Epoch 00070: val_loss improved from 0.47787 to 0.44822, saving model to saved_models/weights.best.basic_mlp.hdf5\n",
      "Epoch 71/100\n",
      "6985/6985 [==============================] - 0s 59us/step - loss: 0.5739 - accuracy: 0.8039 - val_loss: 0.4891 - val_accuracy: 0.8540\n",
      "\n",
      "Epoch 00071: val_loss did not improve from 0.44822\n",
      "Epoch 72/100\n",
      "6985/6985 [==============================] - 0s 60us/step - loss: 0.5975 - accuracy: 0.7990 - val_loss: 0.4690 - val_accuracy: 0.8552\n",
      "\n",
      "Epoch 00072: val_loss did not improve from 0.44822\n",
      "Epoch 73/100\n",
      "6985/6985 [==============================] - 0s 57us/step - loss: 0.5769 - accuracy: 0.8066 - val_loss: 0.4552 - val_accuracy: 0.8683\n",
      "\n",
      "Epoch 00073: val_loss did not improve from 0.44822\n",
      "Epoch 74/100\n",
      "6985/6985 [==============================] - 0s 58us/step - loss: 0.5722 - accuracy: 0.8013 - val_loss: 0.4799 - val_accuracy: 0.8598\n",
      "\n",
      "Epoch 00074: val_loss did not improve from 0.44822\n",
      "Epoch 75/100\n",
      "6985/6985 [==============================] - 0s 58us/step - loss: 0.5697 - accuracy: 0.8033 - val_loss: 0.4602 - val_accuracy: 0.8569\n",
      "\n",
      "Epoch 00075: val_loss did not improve from 0.44822\n",
      "Epoch 76/100\n",
      "6985/6985 [==============================] - 0s 58us/step - loss: 0.5706 - accuracy: 0.8082 - val_loss: 0.4672 - val_accuracy: 0.8598\n",
      "\n",
      "Epoch 00076: val_loss did not improve from 0.44822\n",
      "Epoch 77/100\n",
      "6985/6985 [==============================] - 0s 64us/step - loss: 0.5729 - accuracy: 0.8057 - val_loss: 0.4696 - val_accuracy: 0.8609\n",
      "\n",
      "Epoch 00077: val_loss did not improve from 0.44822\n",
      "Epoch 78/100\n",
      "6985/6985 [==============================] - 0s 59us/step - loss: 0.5593 - accuracy: 0.8086 - val_loss: 0.4698 - val_accuracy: 0.8649\n",
      "\n",
      "Epoch 00078: val_loss did not improve from 0.44822\n",
      "Epoch 79/100\n",
      "6985/6985 [==============================] - 0s 57us/step - loss: 0.5474 - accuracy: 0.8119 - val_loss: 0.4721 - val_accuracy: 0.8615\n",
      "\n",
      "Epoch 00079: val_loss did not improve from 0.44822\n",
      "Epoch 80/100\n",
      "6985/6985 [==============================] - 0s 59us/step - loss: 0.5612 - accuracy: 0.8105 - val_loss: 0.4567 - val_accuracy: 0.8706\n",
      "\n",
      "Epoch 00080: val_loss did not improve from 0.44822\n",
      "Epoch 81/100\n",
      "6985/6985 [==============================] - 0s 58us/step - loss: 0.5849 - accuracy: 0.8042 - val_loss: 0.4834 - val_accuracy: 0.8569\n",
      "\n",
      "Epoch 00081: val_loss did not improve from 0.44822\n",
      "Epoch 82/100\n",
      "6985/6985 [==============================] - 0s 58us/step - loss: 0.5919 - accuracy: 0.8033 - val_loss: 0.4750 - val_accuracy: 0.8546\n",
      "\n",
      "Epoch 00082: val_loss did not improve from 0.44822\n",
      "Epoch 83/100\n",
      "6985/6985 [==============================] - 0s 58us/step - loss: 0.5728 - accuracy: 0.8067 - val_loss: 0.4746 - val_accuracy: 0.8609\n",
      "\n",
      "Epoch 00083: val_loss did not improve from 0.44822\n",
      "Epoch 84/100\n",
      "6985/6985 [==============================] - 0s 57us/step - loss: 0.5677 - accuracy: 0.8046 - val_loss: 0.4633 - val_accuracy: 0.8649\n",
      "\n",
      "Epoch 00084: val_loss did not improve from 0.44822\n",
      "Epoch 85/100\n",
      "6985/6985 [==============================] - 0s 58us/step - loss: 0.5623 - accuracy: 0.8137 - val_loss: 0.4752 - val_accuracy: 0.8706\n",
      "\n",
      "Epoch 00085: val_loss did not improve from 0.44822\n",
      "Epoch 86/100\n",
      "6985/6985 [==============================] - 0s 58us/step - loss: 0.5422 - accuracy: 0.8170 - val_loss: 0.4742 - val_accuracy: 0.8666\n",
      "\n",
      "Epoch 00086: val_loss did not improve from 0.44822\n",
      "Epoch 87/100\n",
      "6985/6985 [==============================] - 0s 59us/step - loss: 0.5468 - accuracy: 0.8163 - val_loss: 0.4604 - val_accuracy: 0.8764\n",
      "\n",
      "Epoch 00087: val_loss did not improve from 0.44822\n",
      "Epoch 88/100\n",
      "6985/6985 [==============================] - 0s 58us/step - loss: 0.5520 - accuracy: 0.8143 - val_loss: 0.4565 - val_accuracy: 0.8764\n",
      "\n",
      "Epoch 00088: val_loss did not improve from 0.44822\n",
      "Epoch 89/100\n",
      "6985/6985 [==============================] - 0s 59us/step - loss: 0.5425 - accuracy: 0.8127 - val_loss: 0.4442 - val_accuracy: 0.8689\n",
      "\n",
      "Epoch 00089: val_loss improved from 0.44822 to 0.44423, saving model to saved_models/weights.best.basic_mlp.hdf5\n",
      "Epoch 90/100\n",
      "6985/6985 [==============================] - 0s 58us/step - loss: 0.5249 - accuracy: 0.8178 - val_loss: 0.4353 - val_accuracy: 0.8678\n",
      "\n",
      "Epoch 00090: val_loss improved from 0.44423 to 0.43531, saving model to saved_models/weights.best.basic_mlp.hdf5\n",
      "Epoch 91/100\n",
      "6985/6985 [==============================] - 0s 58us/step - loss: 0.5595 - accuracy: 0.8115 - val_loss: 0.4437 - val_accuracy: 0.8741\n",
      "\n",
      "Epoch 00091: val_loss did not improve from 0.43531\n",
      "Epoch 92/100\n",
      "6985/6985 [==============================] - 0s 59us/step - loss: 0.5359 - accuracy: 0.8196 - val_loss: 0.4607 - val_accuracy: 0.8649\n",
      "\n",
      "Epoch 00092: val_loss did not improve from 0.43531\n",
      "Epoch 93/100\n",
      "6985/6985 [==============================] - 0s 55us/step - loss: 0.5473 - accuracy: 0.8113 - val_loss: 0.4715 - val_accuracy: 0.8643\n",
      "\n",
      "Epoch 00093: val_loss did not improve from 0.43531\n",
      "Epoch 94/100\n",
      "6985/6985 [==============================] - 0s 59us/step - loss: 0.5402 - accuracy: 0.8199 - val_loss: 0.4509 - val_accuracy: 0.8735\n",
      "\n",
      "Epoch 00094: val_loss did not improve from 0.43531\n",
      "Epoch 95/100\n",
      "6985/6985 [==============================] - 0s 57us/step - loss: 0.5243 - accuracy: 0.8199 - val_loss: 0.4603 - val_accuracy: 0.8741\n",
      "\n",
      "Epoch 00095: val_loss did not improve from 0.43531\n",
      "Epoch 96/100\n",
      "6985/6985 [==============================] - 0s 56us/step - loss: 0.5365 - accuracy: 0.8218 - val_loss: 0.4533 - val_accuracy: 0.8695\n",
      "\n",
      "Epoch 00096: val_loss did not improve from 0.43531\n",
      "Epoch 97/100\n",
      "6985/6985 [==============================] - 0s 57us/step - loss: 0.5543 - accuracy: 0.8136 - val_loss: 0.4547 - val_accuracy: 0.8764\n",
      "\n",
      "Epoch 00097: val_loss did not improve from 0.43531\n",
      "Epoch 98/100\n",
      "6985/6985 [==============================] - 0s 57us/step - loss: 0.5326 - accuracy: 0.8155 - val_loss: 0.4536 - val_accuracy: 0.8655\n",
      "\n",
      "Epoch 00098: val_loss did not improve from 0.43531\n",
      "Epoch 99/100\n",
      "6985/6985 [==============================] - 0s 58us/step - loss: 0.5177 - accuracy: 0.8261 - val_loss: 0.4420 - val_accuracy: 0.8764\n",
      "\n",
      "Epoch 00099: val_loss did not improve from 0.43531\n",
      "Epoch 100/100\n",
      "6985/6985 [==============================] - 0s 56us/step - loss: 0.5419 - accuracy: 0.8218 - val_loss: 0.4545 - val_accuracy: 0.8752\n",
      "\n",
      "Epoch 00100: val_loss did not improve from 0.43531\n",
      "Training finished in time:  0:00:39.015374\n"
     ]
    }
   ],
   "source": [
    "num_epochs = 100\n",
    "num_batch_size = 32\n",
    "\n",
    "checkpointer = ModelCheckpoint(filepath='saved_models/weights.best.basic_mlp.hdf5', \n",
    "                               verbose=1, save_best_only=True)\n",
    "start = datetime.now()\n",
    "\n",
    "model.fit(x_train_1D, \n",
    "          y_train_1D, \n",
    "          batch_size=num_batch_size, \n",
    "          epochs=num_epochs, \n",
    "          validation_data=(x_test_1D, y_test_1D), \n",
    "          callbacks=[checkpointer], \n",
    "          verbose=1)\n",
    "\n",
    "duration = datetime.now() - start\n",
    "print(\"Training finished in time: \", duration)"
   ]
  },
  {
   "cell_type": "markdown",
   "metadata": {},
   "source": [
    "### Model Evalutaion"
   ]
  },
  {
   "cell_type": "code",
   "execution_count": 212,
   "metadata": {},
   "outputs": [
    {
     "name": "stdout",
     "output_type": "stream",
     "text": [
      "Training Accuracy:  0.9275590777397156\n",
      "Testing Accuracy:  0.8752146363258362\n"
     ]
    }
   ],
   "source": [
    "# Evaluating the model on the training and testing set\n",
    "score = model.evaluate(x_train_1D, y_train_1D, verbose=0)\n",
    "print(\"Training Accuracy: \", score[1])\n",
    "\n",
    "score = model.evaluate(x_test_1D, y_test_1D, verbose=0)\n",
    "print(\"Testing Accuracy: \", score[1])"
   ]
  },
  {
   "cell_type": "markdown",
   "metadata": {},
   "source": [
    "****\n",
    "****"
   ]
  },
  {
   "cell_type": "markdown",
   "metadata": {},
   "source": [
    "## 4. Convolutional Neural Network"
   ]
  },
  {
   "cell_type": "code",
   "execution_count": 213,
   "metadata": {},
   "outputs": [],
   "source": [
    "import numpy as np\n",
    "from keras.models import Sequential\n",
    "from keras.layers import Dense, Dropout, Activation, Flatten\n",
    "from keras.layers import Convolution2D, Conv2D, MaxPooling2D, GlobalAveragePooling2D\n",
    "from keras.layers import Convolution2D, MaxPooling2D\n",
    "from keras.optimizers import Adam\n",
    "from keras.utils import np_utils\n",
    "from sklearn import metrics \n",
    "from keras.callbacks import ModelCheckpoint \n",
    "from datetime import datetime \n",
    "from sklearn.preprocessing import LabelEncoder\n",
    "from keras.utils import to_categorical\n",
    "from sklearn.model_selection import train_test_split "
   ]
  },
  {
   "cell_type": "markdown",
   "metadata": {},
   "source": [
    "### Data reshaping "
   ]
  },
  {
   "cell_type": "code",
   "execution_count": 214,
   "metadata": {},
   "outputs": [],
   "source": [
    "num_rows = 40\n",
    "num_columns = 174\n",
    "num_channels = 1\n",
    "\n",
    "x_train_2D = x_train_2D.reshape(x_train_2D.shape[0], num_rows, num_columns, num_channels)\n",
    "x_test_2D = x_test_2D.reshape(x_test_2D.shape[0], num_rows, num_columns, num_channels)\n",
    "\n",
    "num_labels = yy_2D.shape[1]\n",
    "filter_size = 2"
   ]
  },
  {
   "cell_type": "markdown",
   "metadata": {},
   "source": [
    "### Model Definition"
   ]
  },
  {
   "cell_type": "code",
   "execution_count": 215,
   "metadata": {},
   "outputs": [],
   "source": [
    "# Model Configuration\n",
    "\n",
    "model = Sequential()\n",
    "model.add(Conv2D(filters=16, kernel_size=2, input_shape=(num_rows, num_columns, num_channels), activation='relu'))\n",
    "model.add(MaxPooling2D(pool_size=2))\n",
    "model.add(Dropout(0.2))\n",
    "\n",
    "model.add(Conv2D(filters=32, kernel_size=2, activation='relu'))\n",
    "model.add(MaxPooling2D(pool_size=2))\n",
    "model.add(Dropout(0.2))\n",
    "\n",
    "model.add(Conv2D(filters=64, kernel_size=2, activation='relu'))\n",
    "model.add(MaxPooling2D(pool_size=2))\n",
    "model.add(Dropout(0.2))\n",
    "\n",
    "model.add(Conv2D(filters=128, kernel_size=2, activation='relu'))\n",
    "model.add(MaxPooling2D(pool_size=2))\n",
    "model.add(Dropout(0.2))\n",
    "model.add(GlobalAveragePooling2D())\n",
    "\n",
    "model.add(Dense(num_labels, activation='softmax'))\n",
    "\n",
    "model.compile(loss='categorical_crossentropy', metrics=['accuracy'], optimizer='adam')"
   ]
  },
  {
   "cell_type": "markdown",
   "metadata": {},
   "source": [
    "### Summarizing Model"
   ]
  },
  {
   "cell_type": "code",
   "execution_count": 216,
   "metadata": {},
   "outputs": [
    {
     "name": "stdout",
     "output_type": "stream",
     "text": [
      "Model: \"sequential_6\"\n",
      "_________________________________________________________________\n",
      "Layer (type)                 Output Shape              Param #   \n",
      "=================================================================\n",
      "conv2d_9 (Conv2D)            (None, 39, 173, 16)       80        \n",
      "_________________________________________________________________\n",
      "max_pooling2d_9 (MaxPooling2 (None, 19, 86, 16)        0         \n",
      "_________________________________________________________________\n",
      "dropout_15 (Dropout)         (None, 19, 86, 16)        0         \n",
      "_________________________________________________________________\n",
      "conv2d_10 (Conv2D)           (None, 18, 85, 32)        2080      \n",
      "_________________________________________________________________\n",
      "max_pooling2d_10 (MaxPooling (None, 9, 42, 32)         0         \n",
      "_________________________________________________________________\n",
      "dropout_16 (Dropout)         (None, 9, 42, 32)         0         \n",
      "_________________________________________________________________\n",
      "conv2d_11 (Conv2D)           (None, 8, 41, 64)         8256      \n",
      "_________________________________________________________________\n",
      "max_pooling2d_11 (MaxPooling (None, 4, 20, 64)         0         \n",
      "_________________________________________________________________\n",
      "dropout_17 (Dropout)         (None, 4, 20, 64)         0         \n",
      "_________________________________________________________________\n",
      "conv2d_12 (Conv2D)           (None, 3, 19, 128)        32896     \n",
      "_________________________________________________________________\n",
      "max_pooling2d_12 (MaxPooling (None, 1, 9, 128)         0         \n",
      "_________________________________________________________________\n",
      "dropout_18 (Dropout)         (None, 1, 9, 128)         0         \n",
      "_________________________________________________________________\n",
      "global_average_pooling2d_3 ( (None, 128)               0         \n",
      "_________________________________________________________________\n",
      "dense_12 (Dense)             (None, 10)                1290      \n",
      "=================================================================\n",
      "Total params: 44,602\n",
      "Trainable params: 44,602\n",
      "Non-trainable params: 0\n",
      "_________________________________________________________________\n",
      "1747/1747 [==============================] - 1s 448us/step\n",
      "Pre-training accuracy: 15.3406%\n"
     ]
    }
   ],
   "source": [
    "model.summary()\n",
    "\n",
    "# Calculate pre-training accuracy \n",
    "score = model.evaluate(x_test_2D, y_test_2D, verbose=1)\n",
    "accuracy = 100*score[1]\n",
    "\n",
    "print(\"Pre-training accuracy: %.4f%%\" % accuracy)"
   ]
  },
  {
   "cell_type": "markdown",
   "metadata": {},
   "source": [
    "### Model Execution"
   ]
  },
  {
   "cell_type": "code",
   "execution_count": 217,
   "metadata": {
    "collapsed": true,
    "jupyter": {
     "outputs_hidden": true
    }
   },
   "outputs": [
    {
     "name": "stdout",
     "output_type": "stream",
     "text": [
      "Train on 6985 samples, validate on 1747 samples\n",
      "Epoch 1/72\n",
      "6985/6985 [==============================] - 13s 2ms/step - loss: 4.9276 - accuracy: 0.1865 - val_loss: 1.9220 - val_accuracy: 0.3137\n",
      "\n",
      "Epoch 00001: val_loss improved from inf to 1.92196, saving model to saved_models/weights.best.basic_cnn.hdf5\n",
      "Epoch 2/72\n",
      "6985/6985 [==============================] - 11s 2ms/step - loss: 1.9563 - accuracy: 0.3250 - val_loss: 1.8344 - val_accuracy: 0.3950\n",
      "\n",
      "Epoch 00002: val_loss improved from 1.92196 to 1.83437, saving model to saved_models/weights.best.basic_cnn.hdf5\n",
      "Epoch 3/72\n",
      "6985/6985 [==============================] - 11s 2ms/step - loss: 1.7272 - accuracy: 0.3838 - val_loss: 1.6841 - val_accuracy: 0.4516\n",
      "\n",
      "Epoch 00003: val_loss improved from 1.83437 to 1.68408, saving model to saved_models/weights.best.basic_cnn.hdf5\n",
      "Epoch 4/72\n",
      "6985/6985 [==============================] - 11s 2ms/step - loss: 1.5393 - accuracy: 0.4553 - val_loss: 1.5313 - val_accuracy: 0.4797\n",
      "\n",
      "Epoch 00004: val_loss improved from 1.68408 to 1.53135, saving model to saved_models/weights.best.basic_cnn.hdf5\n",
      "Epoch 5/72\n",
      "6985/6985 [==============================] - 11s 2ms/step - loss: 1.4135 - accuracy: 0.4991 - val_loss: 1.4466 - val_accuracy: 0.5135\n",
      "\n",
      "Epoch 00005: val_loss improved from 1.53135 to 1.44661, saving model to saved_models/weights.best.basic_cnn.hdf5\n",
      "Epoch 6/72\n",
      "6985/6985 [==============================] - 11s 2ms/step - loss: 1.2941 - accuracy: 0.5437 - val_loss: 1.3326 - val_accuracy: 0.5638\n",
      "\n",
      "Epoch 00006: val_loss improved from 1.44661 to 1.33260, saving model to saved_models/weights.best.basic_cnn.hdf5\n",
      "Epoch 7/72\n",
      "6985/6985 [==============================] - 11s 2ms/step - loss: 1.2266 - accuracy: 0.5772 - val_loss: 1.3312 - val_accuracy: 0.5535\n",
      "\n",
      "Epoch 00007: val_loss improved from 1.33260 to 1.33124, saving model to saved_models/weights.best.basic_cnn.hdf5\n",
      "Epoch 8/72\n",
      "6985/6985 [==============================] - 11s 2ms/step - loss: 1.1850 - accuracy: 0.5898 - val_loss: 1.2042 - val_accuracy: 0.6113\n",
      "\n",
      "Epoch 00008: val_loss improved from 1.33124 to 1.20420, saving model to saved_models/weights.best.basic_cnn.hdf5\n",
      "Epoch 9/72\n",
      "6985/6985 [==============================] - 12s 2ms/step - loss: 1.1296 - accuracy: 0.6115 - val_loss: 1.2077 - val_accuracy: 0.5873\n",
      "\n",
      "Epoch 00009: val_loss did not improve from 1.20420\n",
      "Epoch 10/72\n",
      "6985/6985 [==============================] - 11s 2ms/step - loss: 1.0801 - accuracy: 0.6263 - val_loss: 1.1402 - val_accuracy: 0.6119\n",
      "\n",
      "Epoch 00010: val_loss improved from 1.20420 to 1.14022, saving model to saved_models/weights.best.basic_cnn.hdf5\n",
      "Epoch 11/72\n",
      "6985/6985 [==============================] - 11s 2ms/step - loss: 1.0338 - accuracy: 0.6411 - val_loss: 1.0863 - val_accuracy: 0.6342\n",
      "\n",
      "Epoch 00011: val_loss improved from 1.14022 to 1.08634, saving model to saved_models/weights.best.basic_cnn.hdf5\n",
      "Epoch 12/72\n",
      "6985/6985 [==============================] - 11s 2ms/step - loss: 0.9807 - accuracy: 0.6659 - val_loss: 1.0870 - val_accuracy: 0.6199\n",
      "\n",
      "Epoch 00012: val_loss did not improve from 1.08634\n",
      "Epoch 13/72\n",
      "6985/6985 [==============================] - 11s 2ms/step - loss: 0.9601 - accuracy: 0.6670 - val_loss: 1.0336 - val_accuracy: 0.6445\n",
      "\n",
      "Epoch 00013: val_loss improved from 1.08634 to 1.03360, saving model to saved_models/weights.best.basic_cnn.hdf5\n",
      "Epoch 14/72\n",
      "6985/6985 [==============================] - 11s 2ms/step - loss: 0.9135 - accuracy: 0.6826 - val_loss: 0.9629 - val_accuracy: 0.6812\n",
      "\n",
      "Epoch 00014: val_loss improved from 1.03360 to 0.96285, saving model to saved_models/weights.best.basic_cnn.hdf5\n",
      "Epoch 15/72\n",
      "6985/6985 [==============================] - 11s 2ms/step - loss: 0.8962 - accuracy: 0.6941 - val_loss: 0.9347 - val_accuracy: 0.6795\n",
      "\n",
      "Epoch 00015: val_loss improved from 0.96285 to 0.93475, saving model to saved_models/weights.best.basic_cnn.hdf5\n",
      "Epoch 16/72\n",
      "6985/6985 [==============================] - 12s 2ms/step - loss: 0.8680 - accuracy: 0.7097 - val_loss: 0.9321 - val_accuracy: 0.6760\n",
      "\n",
      "Epoch 00016: val_loss improved from 0.93475 to 0.93209, saving model to saved_models/weights.best.basic_cnn.hdf5\n",
      "Epoch 17/72\n",
      "6985/6985 [==============================] - 11s 2ms/step - loss: 0.8493 - accuracy: 0.7127 - val_loss: 0.8800 - val_accuracy: 0.7058\n",
      "\n",
      "Epoch 00017: val_loss improved from 0.93209 to 0.87997, saving model to saved_models/weights.best.basic_cnn.hdf5\n",
      "Epoch 18/72\n",
      "6985/6985 [==============================] - 11s 2ms/step - loss: 0.8255 - accuracy: 0.7184 - val_loss: 0.8716 - val_accuracy: 0.7098\n",
      "\n",
      "Epoch 00018: val_loss improved from 0.87997 to 0.87160, saving model to saved_models/weights.best.basic_cnn.hdf5\n",
      "Epoch 19/72\n",
      "6985/6985 [==============================] - 11s 2ms/step - loss: 0.7943 - accuracy: 0.7284 - val_loss: 0.8722 - val_accuracy: 0.7052\n",
      "\n",
      "Epoch 00019: val_loss did not improve from 0.87160\n",
      "Epoch 20/72\n",
      "6985/6985 [==============================] - 11s 2ms/step - loss: 0.7735 - accuracy: 0.7455 - val_loss: 0.8869 - val_accuracy: 0.6989\n",
      "\n",
      "Epoch 00020: val_loss did not improve from 0.87160\n",
      "Epoch 21/72\n",
      "6985/6985 [==============================] - 11s 2ms/step - loss: 0.7446 - accuracy: 0.7394 - val_loss: 0.8026 - val_accuracy: 0.7327\n",
      "\n",
      "Epoch 00021: val_loss improved from 0.87160 to 0.80262, saving model to saved_models/weights.best.basic_cnn.hdf5\n",
      "Epoch 22/72\n",
      "6985/6985 [==============================] - 11s 2ms/step - loss: 0.7281 - accuracy: 0.7459 - val_loss: 0.7999 - val_accuracy: 0.7275\n",
      "\n",
      "Epoch 00022: val_loss improved from 0.80262 to 0.79993, saving model to saved_models/weights.best.basic_cnn.hdf5\n",
      "Epoch 23/72\n",
      "6985/6985 [==============================] - 11s 2ms/step - loss: 0.7033 - accuracy: 0.7582 - val_loss: 0.7538 - val_accuracy: 0.7476\n",
      "\n",
      "Epoch 00023: val_loss improved from 0.79993 to 0.75384, saving model to saved_models/weights.best.basic_cnn.hdf5\n",
      "Epoch 24/72\n",
      "6985/6985 [==============================] - 11s 2ms/step - loss: 0.6756 - accuracy: 0.7752 - val_loss: 0.7977 - val_accuracy: 0.7275\n",
      "\n",
      "Epoch 00024: val_loss did not improve from 0.75384\n",
      "Epoch 25/72\n",
      "6985/6985 [==============================] - 11s 2ms/step - loss: 0.6709 - accuracy: 0.7728 - val_loss: 0.7547 - val_accuracy: 0.7499\n",
      "\n",
      "Epoch 00025: val_loss did not improve from 0.75384\n",
      "Epoch 26/72\n",
      "6985/6985 [==============================] - 11s 2ms/step - loss: 0.6393 - accuracy: 0.7851 - val_loss: 0.7084 - val_accuracy: 0.7670\n",
      "\n",
      "Epoch 00026: val_loss improved from 0.75384 to 0.70837, saving model to saved_models/weights.best.basic_cnn.hdf5\n",
      "Epoch 27/72\n",
      "6985/6985 [==============================] - 11s 2ms/step - loss: 0.6224 - accuracy: 0.7878 - val_loss: 0.7497 - val_accuracy: 0.7504\n",
      "\n",
      "Epoch 00027: val_loss did not improve from 0.70837\n",
      "Epoch 28/72\n",
      "6985/6985 [==============================] - 11s 2ms/step - loss: 0.6245 - accuracy: 0.7855 - val_loss: 0.6821 - val_accuracy: 0.7768\n",
      "\n",
      "Epoch 00028: val_loss improved from 0.70837 to 0.68207, saving model to saved_models/weights.best.basic_cnn.hdf5\n",
      "Epoch 29/72\n",
      "6985/6985 [==============================] - 11s 2ms/step - loss: 0.6026 - accuracy: 0.7961 - val_loss: 0.7085 - val_accuracy: 0.7596\n",
      "\n",
      "Epoch 00029: val_loss did not improve from 0.68207\n",
      "Epoch 30/72\n",
      "6985/6985 [==============================] - 11s 2ms/step - loss: 0.5959 - accuracy: 0.8040 - val_loss: 0.6918 - val_accuracy: 0.7796\n",
      "\n",
      "Epoch 00030: val_loss did not improve from 0.68207\n",
      "Epoch 31/72\n",
      "6985/6985 [==============================] - 11s 2ms/step - loss: 0.5822 - accuracy: 0.8047 - val_loss: 0.6319 - val_accuracy: 0.7991\n",
      "\n",
      "Epoch 00031: val_loss improved from 0.68207 to 0.63194, saving model to saved_models/weights.best.basic_cnn.hdf5\n",
      "Epoch 32/72\n",
      "6985/6985 [==============================] - 11s 2ms/step - loss: 0.5678 - accuracy: 0.8069 - val_loss: 0.6872 - val_accuracy: 0.7762\n",
      "\n",
      "Epoch 00032: val_loss did not improve from 0.63194\n",
      "Epoch 33/72\n",
      "6985/6985 [==============================] - 11s 2ms/step - loss: 0.5458 - accuracy: 0.8160 - val_loss: 0.6934 - val_accuracy: 0.7659\n",
      "\n",
      "Epoch 00033: val_loss did not improve from 0.63194\n",
      "Epoch 34/72\n",
      "6985/6985 [==============================] - 11s 2ms/step - loss: 0.5461 - accuracy: 0.8145 - val_loss: 0.6531 - val_accuracy: 0.7819\n",
      "\n",
      "Epoch 00034: val_loss did not improve from 0.63194\n",
      "Epoch 35/72\n",
      "6985/6985 [==============================] - 11s 2ms/step - loss: 0.5253 - accuracy: 0.8188 - val_loss: 0.6881 - val_accuracy: 0.7762\n",
      "\n",
      "Epoch 00035: val_loss did not improve from 0.63194\n",
      "Epoch 36/72\n",
      "6985/6985 [==============================] - 11s 2ms/step - loss: 0.5137 - accuracy: 0.8261 - val_loss: 0.5802 - val_accuracy: 0.8168\n",
      "\n",
      "Epoch 00036: val_loss improved from 0.63194 to 0.58019, saving model to saved_models/weights.best.basic_cnn.hdf5\n",
      "Epoch 37/72\n",
      "6985/6985 [==============================] - 11s 2ms/step - loss: 0.5098 - accuracy: 0.8275 - val_loss: 0.5879 - val_accuracy: 0.8111\n",
      "\n",
      "Epoch 00037: val_loss did not improve from 0.58019\n",
      "Epoch 38/72\n",
      "6985/6985 [==============================] - 11s 2ms/step - loss: 0.4947 - accuracy: 0.8308 - val_loss: 0.6136 - val_accuracy: 0.7945\n",
      "\n",
      "Epoch 00038: val_loss did not improve from 0.58019\n",
      "Epoch 39/72\n",
      "6985/6985 [==============================] - 11s 2ms/step - loss: 0.4772 - accuracy: 0.8366 - val_loss: 0.5408 - val_accuracy: 0.8260\n",
      "\n",
      "Epoch 00039: val_loss improved from 0.58019 to 0.54084, saving model to saved_models/weights.best.basic_cnn.hdf5\n",
      "Epoch 40/72\n",
      "6985/6985 [==============================] - 11s 2ms/step - loss: 0.4707 - accuracy: 0.8392 - val_loss: 0.5902 - val_accuracy: 0.8071\n",
      "\n",
      "Epoch 00040: val_loss did not improve from 0.54084\n",
      "Epoch 41/72\n",
      "6985/6985 [==============================] - 11s 2ms/step - loss: 0.4747 - accuracy: 0.8385 - val_loss: 0.5942 - val_accuracy: 0.8060\n",
      "\n",
      "Epoch 00041: val_loss did not improve from 0.54084\n",
      "Epoch 42/72\n",
      "6985/6985 [==============================] - 11s 2ms/step - loss: 0.4438 - accuracy: 0.8494 - val_loss: 0.5566 - val_accuracy: 0.8197\n",
      "\n",
      "Epoch 00042: val_loss did not improve from 0.54084\n",
      "Epoch 43/72\n",
      "6985/6985 [==============================] - 11s 2ms/step - loss: 0.4430 - accuracy: 0.8487 - val_loss: 0.5095 - val_accuracy: 0.8351\n",
      "\n",
      "Epoch 00043: val_loss improved from 0.54084 to 0.50955, saving model to saved_models/weights.best.basic_cnn.hdf5\n",
      "Epoch 44/72\n",
      "6985/6985 [==============================] - 11s 2ms/step - loss: 0.4313 - accuracy: 0.8528 - val_loss: 0.5433 - val_accuracy: 0.8231\n",
      "\n",
      "Epoch 00044: val_loss did not improve from 0.50955\n",
      "Epoch 45/72\n",
      "6985/6985 [==============================] - 11s 2ms/step - loss: 0.4291 - accuracy: 0.8555 - val_loss: 0.5607 - val_accuracy: 0.8231\n",
      "\n",
      "Epoch 00045: val_loss did not improve from 0.50955\n",
      "Epoch 46/72\n",
      "6985/6985 [==============================] - 11s 2ms/step - loss: 0.4263 - accuracy: 0.8551 - val_loss: 0.5324 - val_accuracy: 0.8243\n",
      "\n",
      "Epoch 00046: val_loss did not improve from 0.50955\n",
      "Epoch 47/72\n",
      "6985/6985 [==============================] - 11s 2ms/step - loss: 0.4044 - accuracy: 0.8626 - val_loss: 0.4847 - val_accuracy: 0.8414\n",
      "\n",
      "Epoch 00047: val_loss improved from 0.50955 to 0.48473, saving model to saved_models/weights.best.basic_cnn.hdf5\n",
      "Epoch 48/72\n",
      "6985/6985 [==============================] - 11s 2ms/step - loss: 0.4181 - accuracy: 0.8530 - val_loss: 0.5014 - val_accuracy: 0.8334\n",
      "\n",
      "Epoch 00048: val_loss did not improve from 0.48473\n",
      "Epoch 49/72\n",
      "6985/6985 [==============================] - 11s 2ms/step - loss: 0.3994 - accuracy: 0.8608 - val_loss: 0.4779 - val_accuracy: 0.8483\n",
      "\n",
      "Epoch 00049: val_loss improved from 0.48473 to 0.47790, saving model to saved_models/weights.best.basic_cnn.hdf5\n",
      "Epoch 50/72\n",
      "6985/6985 [==============================] - 11s 2ms/step - loss: 0.3868 - accuracy: 0.8661 - val_loss: 0.4926 - val_accuracy: 0.8454\n",
      "\n",
      "Epoch 00050: val_loss did not improve from 0.47790\n",
      "Epoch 51/72\n",
      "6985/6985 [==============================] - 11s 2ms/step - loss: 0.4018 - accuracy: 0.8613 - val_loss: 0.4570 - val_accuracy: 0.8586\n",
      "\n",
      "Epoch 00051: val_loss improved from 0.47790 to 0.45703, saving model to saved_models/weights.best.basic_cnn.hdf5\n",
      "Epoch 52/72\n",
      "6985/6985 [==============================] - 11s 2ms/step - loss: 0.3738 - accuracy: 0.8681 - val_loss: 0.4322 - val_accuracy: 0.8666\n",
      "\n",
      "Epoch 00052: val_loss improved from 0.45703 to 0.43216, saving model to saved_models/weights.best.basic_cnn.hdf5\n",
      "Epoch 53/72\n",
      "6985/6985 [==============================] - 11s 2ms/step - loss: 0.3769 - accuracy: 0.8760 - val_loss: 0.4404 - val_accuracy: 0.8580\n",
      "\n",
      "Epoch 00053: val_loss did not improve from 0.43216\n",
      "Epoch 54/72\n",
      "6985/6985 [==============================] - 11s 2ms/step - loss: 0.3675 - accuracy: 0.8733 - val_loss: 0.4201 - val_accuracy: 0.8672\n",
      "\n",
      "Epoch 00054: val_loss improved from 0.43216 to 0.42006, saving model to saved_models/weights.best.basic_cnn.hdf5\n",
      "Epoch 55/72\n",
      "6985/6985 [==============================] - 11s 2ms/step - loss: 0.3682 - accuracy: 0.8753 - val_loss: 0.3956 - val_accuracy: 0.8735\n",
      "\n",
      "Epoch 00055: val_loss improved from 0.42006 to 0.39564, saving model to saved_models/weights.best.basic_cnn.hdf5\n",
      "Epoch 56/72\n",
      "6985/6985 [==============================] - 11s 2ms/step - loss: 0.3530 - accuracy: 0.8766 - val_loss: 0.4543 - val_accuracy: 0.8535\n",
      "\n",
      "Epoch 00056: val_loss did not improve from 0.39564\n",
      "Epoch 57/72\n",
      "6985/6985 [==============================] - 12s 2ms/step - loss: 0.3618 - accuracy: 0.8739 - val_loss: 0.4265 - val_accuracy: 0.8615\n",
      "\n",
      "Epoch 00057: val_loss did not improve from 0.39564\n",
      "Epoch 58/72\n",
      "6985/6985 [==============================] - 12s 2ms/step - loss: 0.3656 - accuracy: 0.8713 - val_loss: 0.4280 - val_accuracy: 0.8632\n",
      "\n",
      "Epoch 00058: val_loss did not improve from 0.39564\n",
      "Epoch 59/72\n",
      "6985/6985 [==============================] - 12s 2ms/step - loss: 0.3522 - accuracy: 0.8800 - val_loss: 0.4374 - val_accuracy: 0.8603\n",
      "\n",
      "Epoch 00059: val_loss did not improve from 0.39564\n",
      "Epoch 60/72\n",
      "6985/6985 [==============================] - 12s 2ms/step - loss: 0.3217 - accuracy: 0.8875 - val_loss: 0.4430 - val_accuracy: 0.8569\n",
      "\n",
      "Epoch 00060: val_loss did not improve from 0.39564\n",
      "Epoch 61/72\n",
      "6985/6985 [==============================] - 11s 2ms/step - loss: 0.3397 - accuracy: 0.8819 - val_loss: 0.4192 - val_accuracy: 0.8643\n",
      "\n",
      "Epoch 00061: val_loss did not improve from 0.39564\n",
      "Epoch 62/72\n",
      "6985/6985 [==============================] - 11s 2ms/step - loss: 0.3255 - accuracy: 0.8932 - val_loss: 0.3814 - val_accuracy: 0.8769\n",
      "\n",
      "Epoch 00062: val_loss improved from 0.39564 to 0.38135, saving model to saved_models/weights.best.basic_cnn.hdf5\n",
      "Epoch 63/72\n",
      "6985/6985 [==============================] - 11s 2ms/step - loss: 0.3177 - accuracy: 0.8918 - val_loss: 0.4111 - val_accuracy: 0.8752\n",
      "\n",
      "Epoch 00063: val_loss did not improve from 0.38135\n",
      "Epoch 64/72\n",
      "6985/6985 [==============================] - 11s 2ms/step - loss: 0.3108 - accuracy: 0.8905 - val_loss: 0.4242 - val_accuracy: 0.8615\n",
      "\n",
      "Epoch 00064: val_loss did not improve from 0.38135\n",
      "Epoch 65/72\n",
      "6985/6985 [==============================] - 11s 2ms/step - loss: 0.3134 - accuracy: 0.8863 - val_loss: 0.4007 - val_accuracy: 0.8683\n",
      "\n",
      "Epoch 00065: val_loss did not improve from 0.38135\n",
      "Epoch 66/72\n",
      "6985/6985 [==============================] - 11s 2ms/step - loss: 0.3089 - accuracy: 0.8939 - val_loss: 0.4493 - val_accuracy: 0.8558\n",
      "\n",
      "Epoch 00066: val_loss did not improve from 0.38135\n",
      "Epoch 67/72\n",
      "6985/6985 [==============================] - 11s 2ms/step - loss: 0.3026 - accuracy: 0.8923 - val_loss: 0.4063 - val_accuracy: 0.8701\n",
      "\n",
      "Epoch 00067: val_loss did not improve from 0.38135\n",
      "Epoch 68/72\n",
      "6985/6985 [==============================] - 12s 2ms/step - loss: 0.2938 - accuracy: 0.8985 - val_loss: 0.4489 - val_accuracy: 0.8580\n",
      "\n",
      "Epoch 00068: val_loss did not improve from 0.38135\n",
      "Epoch 69/72\n",
      "6985/6985 [==============================] - 12s 2ms/step - loss: 0.2997 - accuracy: 0.8974 - val_loss: 0.4342 - val_accuracy: 0.8575\n",
      "\n",
      "Epoch 00069: val_loss did not improve from 0.38135\n",
      "Epoch 70/72\n",
      "6985/6985 [==============================] - 12s 2ms/step - loss: 0.2924 - accuracy: 0.8989 - val_loss: 0.4329 - val_accuracy: 0.8615\n",
      "\n",
      "Epoch 00070: val_loss did not improve from 0.38135\n",
      "Epoch 71/72\n",
      "6985/6985 [==============================] - 12s 2ms/step - loss: 0.2812 - accuracy: 0.9034 - val_loss: 0.3909 - val_accuracy: 0.8775\n",
      "\n",
      "Epoch 00071: val_loss did not improve from 0.38135\n",
      "Epoch 72/72\n",
      "6985/6985 [==============================] - 11s 2ms/step - loss: 0.2806 - accuracy: 0.9026 - val_loss: 0.3682 - val_accuracy: 0.8849\n",
      "\n",
      "Epoch 00072: val_loss improved from 0.38135 to 0.36825, saving model to saved_models/weights.best.basic_cnn.hdf5\n",
      "Training completed in time:  0:13:40.404342\n"
     ]
    }
   ],
   "source": [
    "num_epochs = 72\n",
    "num_batch_size = 256\n",
    "\n",
    "checkpointer = ModelCheckpoint(filepath='saved_models/weights.best.basic_cnn.hdf5', \n",
    "                               verbose=1, save_best_only=True)\n",
    "start = datetime.now()\n",
    "\n",
    "model.fit(x_train_2D, \n",
    "          y_train_2D, \n",
    "          batch_size=num_batch_size, \n",
    "          epochs=num_epochs, \n",
    "          validation_data=(x_test_2D, y_test_2D), \n",
    "          callbacks=[checkpointer], \n",
    "          verbose=1)\n",
    "\n",
    "duration = datetime.now() - start\n",
    "print(\"Training completed in time: \", duration)"
   ]
  },
  {
   "cell_type": "code",
   "execution_count": 218,
   "metadata": {},
   "outputs": [
    {
     "name": "stdout",
     "output_type": "stream",
     "text": [
      "Training Accuracy:  0.9341446161270142\n",
      "Testing Accuracy:  0.8849456310272217\n"
     ]
    }
   ],
   "source": [
    "# Evaluating the model on the training and testing set\n",
    "score = model.evaluate(x_train_2D, y_train_2D, verbose=0)\n",
    "print(\"Training Accuracy: \", score[1])\n",
    "\n",
    "score = model.evaluate(x_test_2D, y_test_2D, verbose=0)\n",
    "print(\"Testing Accuracy: \", score[1])"
   ]
  },
  {
   "cell_type": "code",
   "execution_count": 111,
   "metadata": {},
   "outputs": [],
   "source": [
    "def predict(file_name):\n",
    "    pred_feature = extract_features(file_name) \n",
    "    pred_feature = pred_feature.reshape(1, num_rows, num_columns, num_channels)\n",
    "\n",
    "    pred_v = model.predict_classes(pred_feature)\n",
    "    pred_clacces = label_encoder_2D.inverse_transform(pred_v) \n",
    "    print(\"The predicted class is:\", predicted_class[0], '\\n') \n",
    "\n",
    "    predicted_proba_vector = model.predict_proba(prediction_feature) \n",
    "    predicted_proba = predicted_proba_vector[0]\n",
    "    for i in range(len(predicted_proba)): \n",
    "        category = le.inverse_transform(np.array([i]))\n",
    "        print(category[0], \"\\t\\t : \", format(predicted_proba[i], '.32f') )"
   ]
  },
  {
   "cell_type": "code",
   "execution_count": null,
   "metadata": {},
   "outputs": [],
   "source": []
  }
 ],
 "metadata": {
  "kernelspec": {
   "display_name": "Python 3",
   "language": "python",
   "name": "python3"
  },
  "language_info": {
   "codemirror_mode": {
    "name": "ipython",
    "version": 3
   },
   "file_extension": ".py",
   "mimetype": "text/x-python",
   "name": "python",
   "nbconvert_exporter": "python",
   "pygments_lexer": "ipython3",
   "version": "3.7.3"
  }
 },
 "nbformat": 4,
 "nbformat_minor": 4
}
